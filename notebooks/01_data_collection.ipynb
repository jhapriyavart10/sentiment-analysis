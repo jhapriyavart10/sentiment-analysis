{
 "cells": [
  {
   "cell_type": "markdown",
   "id": "07088e39",
   "metadata": {},
   "source": [
    "# 01 - Data Collection\n",
    "\n",
    "- Fetch YouTube comments using API (if API key provided)\n",
    "- Fallback: Load comments from CSV (sample provided)\n",
    "\n",
    "Run the script below to fetch or load comments."
   ]
  },
  {
   "cell_type": "code",
   "execution_count": null,
   "id": "98c73679",
   "metadata": {},
   "outputs": [],
   "source": [
    "from src import data_collection\n",
    "\n",
    "# Set your API key and video ID here (optional)\n",
    "API_KEY = ''  # e.g. 'AIza...'<Paste your key>\n",
    "VIDEO_ID = ''  # e.g. 'dQw4w9WgXcQ'\n",
    "\n",
    "if API_KEY and VIDEO_ID:\n",
    "    comments = data_collection.fetch_youtube_comments(API_KEY, VIDEO_ID, max_comments=200)\n",
    "    data_collection.save_comments_to_csv(comments, '../data/comments.csv')\n",
    "else:\n",
    "    df = data_collection.load_comments_csv('../data/comments.csv')\n",
    "    df.head()"
   ]
  }
 ],
 "metadata": {
  "language_info": {
   "name": "python"
  }
 },
 "nbformat": 4,
 "nbformat_minor": 5
}
