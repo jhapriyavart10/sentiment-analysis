{
 "cells": [
  {
   "cell_type": "markdown",
   "id": "e3cd760d",
   "metadata": {},
   "source": [
    "# 03 - Modeling\n",
    "\n",
    "- TF-IDF vectorization\n",
    "- Train/test split\n",
    "- Train Logistic Regression, Naive Bayes, Random Forest\n",
    "\n",
    "Run the script below to train models."
   ]
  },
  {
   "cell_type": "code",
   "execution_count": null,
   "id": "9a07d501",
   "metadata": {},
   "outputs": [],
   "source": [
    "from src import modeling\n",
    "\n",
    "# This will train models and save them in ../models/\n",
    "# Results will be printed for each model\n",
    "\n",
    "if __name__ == '__main__':\n",
    "    modeling.main()"
   ]
  }
 ],
 "metadata": {
  "language_info": {
   "name": "python"
  }
 },
 "nbformat": 4,
 "nbformat_minor": 5
}
