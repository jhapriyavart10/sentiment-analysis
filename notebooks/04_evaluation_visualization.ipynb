{
 "cells": [
  {
   "cell_type": "markdown",
   "id": "c75ffbe7",
   "metadata": {},
   "source": [
    "# 04 - Evaluation & Visualization\n",
    "\n",
    "- Metrics: accuracy, precision, recall, F1-score\n",
    "- Confusion matrix, classification report\n",
    "- Visualizations: word clouds, bar plots\n",
    "\n",
    "Run the script below to evaluate and visualize results."
   ]
  },
  {
   "cell_type": "code",
   "execution_count": null,
   "id": "40e8f1fe",
   "metadata": {},
   "outputs": [],
   "source": [
    "from src import evaluation\n",
    "import pandas as pd\n",
    "\n",
    "df = pd.read_csv('../data/comments_clean.csv')\n",
    "evaluation.plot_sentiment_distribution(df)\n",
    "evaluation.plot_wordcloud(df, 'Positive')\n",
    "evaluation.plot_wordcloud(df, 'Negative')"
   ]
  }
 ],
 "metadata": {
  "language_info": {
   "name": "python"
  }
 },
 "nbformat": 4,
 "nbformat_minor": 5
}
