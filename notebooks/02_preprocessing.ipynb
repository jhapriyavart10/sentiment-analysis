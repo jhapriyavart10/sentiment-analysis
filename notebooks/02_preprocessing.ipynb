{
 "cells": [
  {
   "cell_type": "markdown",
   "id": "ea662a77",
   "metadata": {},
   "source": [
    "# 02 - Data Preprocessing\n",
    "\n",
    "- Clean text: remove emojis, URLs, punctuation, stopwords\n",
    "- Lowercase, tokenize, lemmatize (NLTK)\n",
    "\n",
    "Run the script below to preprocess comments."
   ]
  },
  {
   "cell_type": "code",
   "execution_count": null,
   "id": "04571c9f",
   "metadata": {},
   "outputs": [],
   "source": [
    "from src import preprocessing\n",
    "import pandas as pd\n",
    "\n",
    "df = pd.read_csv('../data/comments.csv')\n",
    "df = preprocessing.preprocess_df(df)\n",
    "df.to_csv('../data/comments_clean.csv', index=False)\n",
    "df.head()"
   ]
  }
 ],
 "metadata": {
  "language_info": {
   "name": "python"
  }
 },
 "nbformat": 4,
 "nbformat_minor": 5
}
